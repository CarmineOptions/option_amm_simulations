{
 "cells": [
  {
   "cell_type": "code",
   "execution_count": null,
   "id": "cbc66816",
   "metadata": {},
   "outputs": [],
   "source": [
    "from IPython.display import display, HTML\n",
    "display(HTML(\"<style>.container { width:100% !important; }</style>\"))"
   ]
  },
  {
   "cell_type": "code",
   "execution_count": null,
   "id": "1d774bf0",
   "metadata": {},
   "outputs": [],
   "source": [
    "%load_ext autoreload\n",
    "%autoreload 2"
   ]
  },
  {
   "cell_type": "code",
   "execution_count": null,
   "id": "974b1dc7",
   "metadata": {},
   "outputs": [],
   "source": [
    "from dataclasses import dataclass\n",
    "\n",
    "import pandas as pd\n",
    "import scipy\n",
    "import scipy.stats\n",
    "import numpy as np\n",
    "\n",
    "import price_time_series\n",
    "from amm import AMM, Option, black_scholes\n",
    "from users import RandomUser"
   ]
  },
  {
   "cell_type": "code",
   "execution_count": null,
   "id": "27934a7f",
   "metadata": {},
   "outputs": [],
   "source": [
    "%matplotlib inline"
   ]
  },
  {
   "cell_type": "markdown",
   "id": "6fd963cf",
   "metadata": {},
   "source": [
    "# Simulation of happens with liquidity pool"
   ]
  },
  {
   "cell_type": "code",
   "execution_count": null,
   "id": "fb651430",
   "metadata": {},
   "outputs": [],
   "source": [
    "alpha = 0.3\n",
    "beta = 0.1\n",
    "\n",
    "price, volatility = price_time_series.generate_price_variance_process(\n",
    "    alpha = alpha,\n",
    "    beta = beta,\n",
    "    series_len = 1_000\n",
    ")"
   ]
  },
  {
   "cell_type": "code",
   "execution_count": null,
   "id": "45d89fea",
   "metadata": {},
   "outputs": [],
   "source": [
    "pd.Series(volatility).plot()"
   ]
  },
  {
   "cell_type": "markdown",
   "id": "b5bf78c2",
   "metadata": {},
   "source": [
    "# Set up\n",
    "\n",
    "## Liquidity pool\n",
    "\n",
    "- for simplicity there is only one maturity and it expires at the end of the time series\n",
    "- the pool(s) allows for both put and call and also for buying and selling\n",
    "- there is only one instrument hence one pool for call option and one for put option\n",
    "\n",
    "## AMM\n",
    "\n",
    "\n",
    "## Traders\n",
    "\n",
    "- traders have unlimited capital -> their capital and profit/loss is not measured\n",
    "- all traders trade the same amount, equal to 1 token\n",
    "- at each round users are shuffled\n",
    "\n",
    "### There are 3 arbitragers\n",
    "\n",
    "- first sees the volatility that generated the process and believes that it should be 10% lower\n",
    "- second sees the volatility that generated the process and believes it is the true one\n",
    "- third sees the volatility that generated the process and believes that it should be 10% higher\n",
    "\n",
    "Each arbitrager executes its trade based on probability given by:\n",
    "\n",
    "- for short (underwriting) -> (pool_premia - arbitragers_premia) / arbitragers_premia * multiplier\n",
    "- for long -> (arbitragers_premia - pool_premia) / arbitragers_premia * multiplier\n",
    "\n",
    "where\n",
    "- arbitragers_premia is calculated by the volatility that the arbitrager believes is true\n",
    "- pool_premia is adjusted for fees\n",
    "\n",
    "### There is a random trader\n",
    "\n",
    "- Trader that trades option with some probability."
   ]
  },
  {
   "cell_type": "code",
   "execution_count": null,
   "id": "75313e7d",
   "metadata": {},
   "outputs": [],
   "source": [
    "time_till_maturity_start=900\n",
    "amm = AMM(time_till_maturity=time_till_maturity_start, current_underlying_price=1.)\n",
    "random_user = RandomUser(trade_probability=0.6, put_strikes=amm.put_strikes, call_strikes=amm.call_strikes)\n",
    "users = [\n",
    "    random_user\n",
    "]"
   ]
  },
  {
   "cell_type": "markdown",
   "id": "01ba348a",
   "metadata": {},
   "source": [
    "- For example ETH/USDC the ETH is base and USDC is quote currency.\n",
    "- Size (quantity) of option is measured in base tokens (ETH).\n",
    "- Put premia is measured in quote token (USDC), call premia in base (ETH) token.\n",
    "- The quote (USDC) pool is used for put options and the base (ETH) pool for call options."
   ]
  },
  {
   "cell_type": "code",
   "execution_count": null,
   "id": "6191af4f",
   "metadata": {
    "scrolled": true
   },
   "outputs": [],
   "source": [
    "# price, volatility\n",
    "for current_price, time_till_maturity in zip(price[100:100+time_till_maturity_start], range(time_till_maturity_start, 0, -1)):\n",
    "    amm.next_epoch(time_till_maturity=time_till_maturity, current_underlying_price=current_price)\n",
    "    \n",
    "    # in each epoch the users are randomly ordered\n",
    "    np.random.shuffle(users)\n",
    "    for user in users:\n",
    "        trade = user.trade(current_price)\n",
    "        if trade is not None:\n",
    "            amm.trade(\n",
    "                strike_price=trade['strike_price'],\n",
    "                type_=trade['type_'],\n",
    "                long_short=trade['long_short'],\n",
    "                quantity=trade['quantity']\n",
    "            )"
   ]
  },
  {
   "cell_type": "code",
   "execution_count": null,
   "id": "61a96cb6",
   "metadata": {},
   "outputs": [],
   "source": [
    "amm.clear()"
   ]
  },
  {
   "cell_type": "code",
   "execution_count": null,
   "id": "0ad6f58b",
   "metadata": {},
   "outputs": [],
   "source": [
    "amm.__dict__()"
   ]
  },
  {
   "cell_type": "code",
   "execution_count": null,
   "id": "780cf45f",
   "metadata": {},
   "outputs": [],
   "source": []
  },
  {
   "cell_type": "code",
   "execution_count": null,
   "id": "0dddf7be",
   "metadata": {},
   "outputs": [],
   "source": []
  },
  {
   "cell_type": "code",
   "execution_count": null,
   "id": "b6169309",
   "metadata": {},
   "outputs": [],
   "source": [
    "#     def next_epoch(self, time_till_maturity: int, current_underlying_price: float) -> None:\n",
    "#     def get_premia(self, strike_price: float, type_: str, long_short: str, quantity: float = 1.) -> float:\n",
    "#     def trade(self, strike_price: float, type_: str, long_short: str, quantity: float) -> Option:"
   ]
  },
  {
   "cell_type": "markdown",
   "id": "78ec2ece",
   "metadata": {},
   "source": [
    "# Specific examples (step by step)"
   ]
  },
  {
   "cell_type": "code",
   "execution_count": null,
   "id": "38e26997",
   "metadata": {},
   "outputs": [],
   "source": [
    "(\n",
    "    amm.get_premia(strike_price=1.1, type_='call', long_short='long', quantity=1.),\n",
    "    amm.get_premia(strike_price=1.1, type_='call', long_short='short', quantity=1.),\n",
    "    amm.get_premia(strike_price=.9, type_='put', long_short='long', quantity=1.),\n",
    "    amm.get_premia(strike_price=.9, type_='put', long_short='short', quantity=1.)\n",
    ")"
   ]
  },
  {
   "cell_type": "code",
   "execution_count": null,
   "id": "e3c20877",
   "metadata": {},
   "outputs": [],
   "source": [
    "amm.next_epoch(time_till_maturity=10, current_underlying_price=1)"
   ]
  },
  {
   "cell_type": "code",
   "execution_count": null,
   "id": "09958155",
   "metadata": {},
   "outputs": [],
   "source": [
    "(\n",
    "    amm.get_premia(strike_price=1.2, type_='call', long_short='long', quantity=1.),\n",
    "    amm.get_premia(strike_price=1.2, type_='call', long_short='short', quantity=1.),\n",
    "    amm.get_premia(strike_price=.8, type_='put', long_short='long', quantity=1.),\n",
    "    amm.get_premia(strike_price=.8, type_='put', long_short='short', quantity=1.)\n",
    ")"
   ]
  },
  {
   "cell_type": "code",
   "execution_count": null,
   "id": "08d32abd",
   "metadata": {},
   "outputs": [],
   "source": [
    "user_option_1 = amm.trade(strike_price=1.2, type_='call', long_short='long', quantity=1.)\n",
    "print(user_option_1)\n",
    "print(\n",
    "    f\"\"\"\n",
    "        call_volatility: {amm.call_volatility}\n",
    "        put_volatility: {amm.put_volatility}\n",
    "        call_pool_size: {amm.call_pool_size}\n",
    "        put_pool_size: {amm.put_pool_size}\n",
    "        call_issued_options: {amm.call_issued_options}\n",
    "        put_issued_options: {amm.put_issued_options}\n",
    "        time_till_maturity: {amm.time_till_maturity}\n",
    "        current_underlying_price: {amm.current_underlying_price}\n",
    "    \"\"\"\n",
    ")"
   ]
  },
  {
   "cell_type": "code",
   "execution_count": null,
   "id": "80584c56",
   "metadata": {},
   "outputs": [],
   "source": [
    "user_option_1 = amm.trade(strike_price=0.9, type_='put', long_short='short', quantity=1.)\n",
    "print(user_option_1)\n",
    "print(\n",
    "    f\"\"\"\n",
    "        call_volatility: {amm.call_volatility}\n",
    "        put_volatility: {amm.put_volatility}\n",
    "        call_pool_size: {amm.call_pool_size}\n",
    "        put_pool_size: {amm.put_pool_size}\n",
    "        call_issued_options: {amm.call_issued_options}\n",
    "        put_issued_options: {amm.put_issued_options}\n",
    "        time_till_maturity: {amm.time_till_maturity}\n",
    "        current_underlying_price: {amm.current_underlying_price}\n",
    "    \"\"\"\n",
    ")"
   ]
  },
  {
   "cell_type": "code",
   "execution_count": null,
   "id": "d832fb38",
   "metadata": {},
   "outputs": [],
   "source": [
    "user_option_1 = amm.trade(strike_price=0.9, type_='put', long_short='long', quantity=1.)\n",
    "print(user_option_1)\n",
    "print(\n",
    "    f\"\"\"\n",
    "        call_volatility: {amm.call_volatility}\n",
    "        put_volatility: {amm.put_volatility}\n",
    "        call_pool_size: {amm.call_pool_size}\n",
    "        put_pool_size: {amm.put_pool_size}\n",
    "        call_issued_options: {amm.call_issued_options}\n",
    "        put_issued_options: {amm.put_issued_options}\n",
    "        time_till_maturity: {amm.time_till_maturity}\n",
    "        current_underlying_price: {amm.current_underlying_price}\n",
    "    \"\"\"\n",
    ")"
   ]
  },
  {
   "cell_type": "code",
   "execution_count": null,
   "id": "3d02542d",
   "metadata": {},
   "outputs": [],
   "source": [
    "user_option_1 = amm.trade(strike_price=1.2, type_='call', long_short='short', quantity=1.)\n",
    "print(user_option_1)\n",
    "print(\n",
    "    f\"\"\"\n",
    "        call_volatility: {amm.call_volatility}\n",
    "        put_volatility: {amm.put_volatility}\n",
    "        call_pool_size: {amm.call_pool_size}\n",
    "        put_pool_size: {amm.put_pool_size}\n",
    "        call_issued_options: {amm.call_issued_options}\n",
    "        put_issued_options: {amm.put_issued_options}\n",
    "        time_till_maturity: {amm.time_till_maturity}\n",
    "        current_underlying_price: {amm.current_underlying_price}\n",
    "    \"\"\"\n",
    ")"
   ]
  },
  {
   "cell_type": "code",
   "execution_count": null,
   "id": "c07d3ade",
   "metadata": {},
   "outputs": [],
   "source": []
  },
  {
   "cell_type": "code",
   "execution_count": null,
   "id": "52e21b4f",
   "metadata": {},
   "outputs": [],
   "source": []
  },
  {
   "cell_type": "code",
   "execution_count": null,
   "id": "3eb82ae8",
   "metadata": {},
   "outputs": [],
   "source": []
  },
  {
   "cell_type": "code",
   "execution_count": null,
   "id": "f3e9ebd4",
   "metadata": {},
   "outputs": [],
   "source": []
  },
  {
   "cell_type": "code",
   "execution_count": null,
   "id": "0c3500f8",
   "metadata": {},
   "outputs": [],
   "source": []
  },
  {
   "cell_type": "code",
   "execution_count": null,
   "id": "e6424ae5",
   "metadata": {},
   "outputs": [],
   "source": []
  },
  {
   "cell_type": "code",
   "execution_count": null,
   "id": "845f81c9",
   "metadata": {},
   "outputs": [],
   "source": []
  },
  {
   "cell_type": "code",
   "execution_count": null,
   "id": "2019ae33",
   "metadata": {},
   "outputs": [],
   "source": []
  },
  {
   "cell_type": "code",
   "execution_count": null,
   "id": "5ce7e650",
   "metadata": {},
   "outputs": [],
   "source": []
  },
  {
   "cell_type": "code",
   "execution_count": null,
   "id": "070d002c",
   "metadata": {},
   "outputs": [],
   "source": []
  }
 ],
 "metadata": {
  "kernelspec": {
   "display_name": "Python 3 (ipykernel)",
   "language": "python",
   "name": "python3"
  },
  "language_info": {
   "codemirror_mode": {
    "name": "ipython",
    "version": 3
   },
   "file_extension": ".py",
   "mimetype": "text/x-python",
   "name": "python",
   "nbconvert_exporter": "python",
   "pygments_lexer": "ipython3",
   "version": "3.9.10"
  }
 },
 "nbformat": 4,
 "nbformat_minor": 5
}
