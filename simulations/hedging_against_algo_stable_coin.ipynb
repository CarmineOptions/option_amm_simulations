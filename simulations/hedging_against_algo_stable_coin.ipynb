{
 "cells": [
  {
   "cell_type": "code",
   "execution_count": null,
   "id": "9548dccd",
   "metadata": {},
   "outputs": [],
   "source": [
    "from IPython.display import display, HTML\n",
    "display(HTML(\"<style>.container { width:100% !important; }</style>\"))"
   ]
  },
  {
   "cell_type": "code",
   "execution_count": null,
   "id": "d9ab817c",
   "metadata": {},
   "outputs": [],
   "source": [
    "%load_ext autoreload\n",
    "%autoreload 2"
   ]
  },
  {
   "cell_type": "code",
   "execution_count": null,
   "id": "2266660a",
   "metadata": {},
   "outputs": [],
   "source": [
    "import pandas as pd"
   ]
  },
  {
   "cell_type": "markdown",
   "id": "789506c1",
   "metadata": {},
   "source": [
    "# Hedge against decreace in algo stable coin vs. fully backed stable coin\n",
    "Hedge ALGO_STABLE_COIN position with options\n",
    "- long call on the BTC/ALGO_STABLE_COIN\n",
    "- short call on the BTC/FULLY_BACKED_STABLE_COIN\n",
    "- short put on the BTC/ALGO_STABLE_COIN\n",
    "- long put on the BTC/FULLY_BACKED_STABLE_COIN"
   ]
  },
  {
   "cell_type": "code",
   "execution_count": null,
   "id": "420ff937",
   "metadata": {},
   "outputs": [],
   "source": [
    "strike = 30_000\n",
    "\n",
    "amount_USDT = 30_000\n",
    "\n",
    "BTC_USDCs = [1, 10_000, 20_000, 30_000, 40_000, 50_000, 60_000]\n",
    "USDT_USDCs = [x/10 for x in range(1, 11)]\n",
    "\n",
    "hedge = pd.DataFrame({x: {y: None for y in USDT_USDCs} for x in BTC_USDCs})\n",
    "loss = pd.DataFrame({x: {y: None for y in USDT_USDCs} for x in BTC_USDCs})\n",
    "for BTC_USDC in BTC_USDCs:\n",
    "    for USDT_USDC in USDT_USDCs:\n",
    "        BTC_USDT = BTC_USDC / USDT_USDC\n",
    "\n",
    "        # long call option on BTC/USDT\n",
    "        # value in USDT\n",
    "        long_call_value_T = max(0, BTC_USDT - strike)\n",
    "        # value in USDC\n",
    "        long_call_value_T = long_call_value_T * USDT_USDC\n",
    "\n",
    "        # short call option on BTC/USDC\n",
    "        # value in USDT\n",
    "        short_call_value_C = -max(0, BTC_USDC - strike)\n",
    "\n",
    "        # short put option on BTC/USDT\n",
    "        # value in USDT\n",
    "        short_put_value_T = -max(0, strike - BTC_USDT)\n",
    "        # value in USDC\n",
    "        short_put_value_T = short_put_value_T * USDT_USDC\n",
    "\n",
    "        # long put option on BTC/USDC \n",
    "        # value in USDC\n",
    "        long_put_value_C = max(0, strike - BTC_USDC)\n",
    "\n",
    "        # profit from hedge in USDC\n",
    "        hedge.loc[USDT_USDC, BTC_USDC] = long_call_value_T + short_call_value_C + short_put_value_T + long_put_value_C\n",
    "\n",
    "        # loss from holding USDT\n",
    "        loss.loc[USDT_USDC, BTC_USDC] = amount_USDT * USDT_USDC - amount_USDT\n",
    "    \n",
    "hedge + loss"
   ]
  }
 ],
 "metadata": {
  "kernelspec": {
   "display_name": "Python 3 (ipykernel)",
   "language": "python",
   "name": "python3"
  },
  "language_info": {
   "codemirror_mode": {
    "name": "ipython",
    "version": 3
   },
   "file_extension": ".py",
   "mimetype": "text/x-python",
   "name": "python",
   "nbconvert_exporter": "python",
   "pygments_lexer": "ipython3",
   "version": "3.9.10"
  }
 },
 "nbformat": 4,
 "nbformat_minor": 5
}
